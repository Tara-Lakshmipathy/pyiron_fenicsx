{
 "cells": [
  {
   "cell_type": "code",
   "execution_count": 1,
   "id": "b2fab2e8-1f12-439c-900b-36b6fdb7b0e7",
   "metadata": {},
   "outputs": [],
   "source": [
    "from pyiron_workflow import Workflow\n",
    "from typing import Optional"
   ]
  },
  {
   "cell_type": "code",
   "execution_count": 2,
   "id": "82a4f604-a73b-43c4-a2b4-470cb3d4bcef",
   "metadata": {},
   "outputs": [],
   "source": [
    "from python.pyironflow import PyironFlow\n",
    "import pyiron_nodes as pn"
   ]
  },
  {
   "cell_type": "code",
   "execution_count": 4,
   "id": "ebaf994a-37bb-4e2c-aa6b-1dbfc4d69ffa",
   "metadata": {},
   "outputs": [],
   "source": [
    "wf = Workflow(\"poisson_membrane_gui\")\n",
    "\n",
    "wf.geometry = pn.fenicsx.geometries.two_d_geometries.create_disk(0, 0, 0, 1, 1, 2, 0.03, 0.03)\n",
    "wf.function_space = pn.fenicsx.function_spaces.general_function_spaces.create_function_space(wf.geometry, \"Lagrange\", 1)\n",
    "wf.plotter_input_mesh = pn.fenicsx.mesh_visualization.pyvista_viz.plot_init_mesh_object(wf.function_space)\n",
    "wf.boundary_condition = pn.fenicsx.boundary_conditions.scalar_geometric.one_d_scalar_dirichlet(function_space=wf.function_space, bc_function=\"np.isclose(np.sqrt(x[0]**2 + x[1]**2), 1)\", value=0)\n",
    "wf.load_definition = pn.fenicsx.load_definitions.poisson_load_expr.beta_R0_function(domain=wf.geometry, factor=4, beta_val=8, R0_val=0.6)\n",
    "wf.solution_vector = pn.fenicsx.solvers.poisson_equations.linear_poisson_solver(wf.function_space, wf.load_definition, wf.boundary_condition)\n",
    "wf.plotter_deformed_mesh = pn.fenicsx.mesh_visualization.pyvista_viz.plot_deformed_mesh_object(wf.function_space, wf.solution_vector)\n",
    "wf.plot_load_deflection = pn.fenicsx.custom_nodes.custom_plots.poisson_load_deflection_plot(wf.geometry, wf.solution_vector, wf.load_definition)"
   ]
  },
  {
   "cell_type": "code",
   "execution_count": 5,
   "id": "a55858dd-8ea1-4b46-bf9f-89e162efdac1",
   "metadata": {},
   "outputs": [],
   "source": [
    "#wf.plotter_input_mesh.pull()"
   ]
  },
  {
   "cell_type": "code",
   "execution_count": 38,
   "id": "ab0ab7c9-5055-470c-a2a7-7fc2b0d8596c",
   "metadata": {},
   "outputs": [
    {
     "data": {
      "application/vnd.jupyter.widget-view+json": {
       "model_id": "67c30bd1b52949b98cd75668c3f6436f",
       "version_major": 2,
       "version_minor": 0
      },
      "text/plain": [
       "HBox(children=(Accordion(children=(Tree(nodes=(Node(icon_style='warning', name='fenicsx'),)), Output(layout=La…"
      ]
     },
     "execution_count": 38,
     "metadata": {},
     "output_type": "execute_result"
    }
   ],
   "source": [
    "pf = PyironFlow([wf])\n",
    "pf.gui"
   ]
  },
  {
   "cell_type": "code",
   "execution_count": 35,
   "id": "c3f55175-7fc9-4b64-9dab-fad0ef25a02c",
   "metadata": {},
   "outputs": [],
   "source": [
    "wf_from_gui = pf.get_workflow()"
   ]
  },
  {
   "cell_type": "code",
   "execution_count": 39,
   "id": "b67d7b5b-91a2-4b1e-98ee-81c2c9134171",
   "metadata": {},
   "outputs": [
    {
     "name": "stdout",
     "output_type": "stream",
     "text": [
      "A view with name (P_0x77edfb76e390_7) is already registered\n",
      " => returning previous one\n"
     ]
    },
    {
     "data": {
      "application/vnd.jupyter.widget-view+json": {
       "model_id": "83c428e930904e129403bbf67b62e96c",
       "version_major": 2,
       "version_minor": 0
      },
      "text/plain": [
       "Widget(value='<iframe src=\"http://localhost:39737/index.html?ui=P_0x77edfb76e390_7&reconnect=auto\" class=\"pyvi…"
      ]
     },
     "metadata": {},
     "output_type": "display_data"
    }
   ],
   "source": [
    "wf_from_gui.plot_deformed_mesh_object.pull().show()"
   ]
  },
  {
   "cell_type": "code",
   "execution_count": null,
   "id": "59075d16-67ba-44a8-8788-bf1a8bb13be6",
   "metadata": {},
   "outputs": [],
   "source": []
  },
  {
   "cell_type": "code",
   "execution_count": null,
   "id": "7500d833-5aa9-43a3-b4c2-903e5d38cbbf",
   "metadata": {},
   "outputs": [],
   "source": []
  }
 ],
 "metadata": {
  "kernelspec": {
   "display_name": "Python 3 (ipykernel)",
   "language": "python",
   "name": "python3"
  },
  "language_info": {
   "codemirror_mode": {
    "name": "ipython",
    "version": 3
   },
   "file_extension": ".py",
   "mimetype": "text/x-python",
   "name": "python",
   "nbconvert_exporter": "python",
   "pygments_lexer": "ipython3",
   "version": "3.11.8"
  }
 },
 "nbformat": 4,
 "nbformat_minor": 5
}
